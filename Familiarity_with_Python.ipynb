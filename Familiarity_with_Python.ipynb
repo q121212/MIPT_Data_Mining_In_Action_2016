{
 "cells": [
  {
   "cell_type": "code",
   "execution_count": null,
   "metadata": {
    "collapsed": true
   },
   "outputs": [],
   "source": [
    "# Python"
   ]
  },
  {
   "cell_type": "code",
   "execution_count": null,
   "metadata": {
    "collapsed": false
   },
   "outputs": [],
   "source": [
    "for number in range(1,100+1):\n",
    "    s=''\n",
    "#    if number % 3 == 0 and number % 5 == 0:\n",
    "#        s+='FizzBuzz'\n",
    "    if number % 3 == 0:\n",
    "        s+='Fizz'\n",
    "    if number % 5 == 0:\n",
    "        s+='Buzz'\n",
    "    if s == '':\n",
    "        s = number\n",
    "    \n",
    "    print(s)"
   ]
  },
  {
   "cell_type": "code",
   "execution_count": null,
   "metadata": {
    "collapsed": false
   },
   "outputs": [],
   "source": [
    "def fib(n):\n",
    "    \"\"\"According the Wikipedia we have 2 different Fibbonacci number representations: \n",
    "    oldschool: 1,1,2,3,5... and modern: 0,1,1,2,3,5,8...\n",
    "    This func is about oldschool version of Fibbonacci number.\n",
    "    If you need a number in modern usage, please use: fib(number-1).\"\"\"\n",
    "    \n",
    "    prev_fib, curr_fib = 0, 1\n",
    "    for i in range(n):\n",
    "        curr_fib, prev_fib = prev_fib + curr_fib, curr_fib\n",
    "    \n",
    "    print(prev_fib)\n",
    "\n",
    "fib(100)"
   ]
  },
  {
   "cell_type": "code",
   "execution_count": null,
   "metadata": {
    "collapsed": false
   },
   "outputs": [],
   "source": [
    "def quicksort(arr):\n",
    "    if len(arr) < 1:\n",
    "        return arr\n",
    "    pivot, left, right, els = arr[0], [], [], []\n",
    "    for i in range(1, len(arr)):\n",
    "        try:\n",
    "            if arr[i] <= pivot:\n",
    "                left.append(arr[i])\n",
    "            else:\n",
    "                right.append(arr[i])\n",
    "        except:\n",
    "            els.append(arr[i])\n",
    "\n",
    "    left, right = quicksort(left), quicksort(right)\n",
    "    if els == []:\n",
    "        return left + [pivot] + right\n",
    "    else:\n",
    "        return els + left + [pivot] + right\n",
    "\n",
    "        \n",
    "\n",
    "# test cases:\n",
    "# print(quicksort([9,4,2,7,1,0,-100,0,-9,7,2,3,1000,4,66]))\n",
    "# print(quicksort('dfghjkl;'))\n",
    "# print(quicksort([]))\n",
    "# print(quicksort([1, 0, 3313, [], -43, False, None, True, 0.2]))"
   ]
  },
  {
   "cell_type": "code",
   "execution_count": null,
   "metadata": {
    "collapsed": false
   },
   "outputs": [],
   "source": [
    "def quicksort_with_list_comprehension(arr):\n",
    "    return (quicksort_with_list_comprehension([x for x in arr if x < arr[0]]) + [x for x in arr if x == arr[0]] + quicksort_with_list_comprehension([x for x in arr if x > arr[0]]) if arr else [])\n",
    "\n",
    "#test case\n",
    "# quicksort_with_list_comprehension([1,0,32,-9932,393,0])"
   ]
  },
  {
   "cell_type": "code",
   "execution_count": null,
   "metadata": {
    "collapsed": true
   },
   "outputs": [],
   "source": [
    "# NumPy"
   ]
  },
  {
   "cell_type": "code",
   "execution_count": null,
   "metadata": {
    "collapsed": false
   },
   "outputs": [],
   "source": [
    "import numpy as np\n",
    "\n",
    "# It's a little restricted ver of linspace (without the next parameters: endpoint, retstep, dtype)\n",
    "def linspace(start, stop, num):\n",
    "    if num == 1:\n",
    "        return [start]\n",
    "    else:\n",
    "        segment = start - stop\n",
    "        step = float(segment) / (num-1)\n",
    "        return [start - i * step for i in range(num)]\n"
   ]
  },
  {
   "cell_type": "code",
   "execution_count": null,
   "metadata": {
    "collapsed": true
   },
   "outputs": [],
   "source": [
    "# My list comprehension version of linspace function"
   ]
  },
  {
   "cell_type": "code",
   "execution_count": null,
   "metadata": {
    "collapsed": false
   },
   "outputs": [],
   "source": [
    "# It's too a little restricted ver of linspace (without the next parameters: endpoint, retstep, dtype)\n",
    "# \n",
    "def linspace_list_comprehension(start, stop, num):\n",
    "    return [start - i * (float(start - stop) / (num-1)) for i in range(num)] if num > 1 else start\n"
   ]
  },
  {
   "cell_type": "code",
   "execution_count": null,
   "metadata": {
    "collapsed": false
   },
   "outputs": [],
   "source": [
    "# test cases\n",
    "a,b,c=2,-10,10\n",
    "print('NP linspace: ', np.linspace(a,b,c), len(np.linspace(a,b,c)))\n",
    "print('My linspace: ', linspace(a,b,c), len(linspace(a,b,c)), end='\\n----\\n')\n",
    "print('My linspace_list_comprehension: ', linspace_list_comprehension(a,b,c), len(linspace_list_comprehension(a,b,c)), end='\\n----\\n')\n",
    "\n",
    "a,b,c=1,1,13\n",
    "print('NP', np.linspace(a,b,c), len(np.linspace(a,b,c)))\n",
    "print('My', linspace(a,b,c), len(linspace(a,b,c)), end='\\n---\\n')\n",
    "print('My linspace_list_comprehension: ', linspace_list_comprehension(a,b,c), len(linspace_list_comprehension(a,b,c)), end='\\n----\\n')\n",
    "\n",
    "# Performance time comparison\n",
    "\n",
    "import cProfile\n",
    "\n",
    "# cProfile.run('np.linspace(1,4,10**7)')\n",
    "# cProfile.run('linspace(1,4,10**7)')\n",
    "# cProfile.run('linspace_list_comprehension(1,4,10**7)')\n",
    "\n",
    "%timeit np.linspace(1,4,100000)\n",
    "%timeit linspace(1,4,100000)\n",
    "%timeit linspace_list_comprehension(1,4,100000)"
   ]
  },
  {
   "cell_type": "code",
   "execution_count": null,
   "metadata": {
    "collapsed": true
   },
   "outputs": [],
   "source": [
    "# Performance comparasion of basic operations with arrays: np.ndarray vs list"
   ]
  },
  {
   "cell_type": "code",
   "execution_count": null,
   "metadata": {
    "collapsed": false
   },
   "outputs": [],
   "source": [
    "import random\n",
    "\n",
    "np_test_arr  = np.arange(10**6)\n",
    "test_arr     = [i for i in range(10**6)]\n",
    "\n",
    "np_test_arr2 = np.empty(10*5) \n",
    "test_arr2    = [random.random() for i in range(10**5)]\n",
    "\n",
    "print('\\nSlicing:')\n",
    "%timeit np_test_arr[10000:-10000]\n",
    "%timeit test_arr[10000:-10000]\n",
    "\n",
    "print('\\nSorting:')\n",
    "%timeit np_test_arr.sort()\n",
    "%timeit test_arr.sort()\n",
    "\n",
    "print('\\nCopying:')\n",
    "%timeit np_test_arr.copy()\n",
    "%timeit test_arr.copy()\n",
    "\n",
    "print('\\nAppending:')\n",
    "%timeit np.append(np_test_arr,np_test_arr2)\n",
    "%timeit test_arr.append(test_arr2)\n",
    "\n",
    "print('\\nReversing:')\n",
    "%timeit np_test_arr[::-1]\n",
    "%timeit test_arr[::-1]\n"
   ]
  },
  {
   "cell_type": "code",
   "execution_count": null,
   "metadata": {
    "collapsed": true
   },
   "outputs": [],
   "source": [
    "# Matplotlib"
   ]
  },
  {
   "cell_type": "code",
   "execution_count": null,
   "metadata": {
    "collapsed": false
   },
   "outputs": [],
   "source": [
    "%matplotlib inline\n",
    "import matplotlib.pyplot as plt\n",
    "from math import pi\n",
    "\n",
    "x = np.linspace(-5,10, 250) "
   ]
  },
  {
   "cell_type": "code",
   "execution_count": null,
   "metadata": {
    "collapsed": false
   },
   "outputs": [],
   "source": [
    "fig = plt.figure(figsize=(14,7))\n",
    "\n",
    "plt.subplot(1, 2, 1)\n",
    "plt.plot(x, 3 / 2*np.sin(pi*x), x, np.cos(pi*x), '--', x, 0.5*np.tan(3*pi*x))\n",
    "plt.xlabel(r'$X-axis$')\n",
    "plt.ylabel(r'$Y-axis$')\n",
    "plt.legend([r'$3/2sin({\\pi}x)$', r'$cos({\\pi}x)$', r'$0.5*tan(3{\\pi}x)$'], bbox_to_anchor=(0., 1.02, 1., .102), loc=3,\n",
    "           ncol=3, mode=\"expand\", borderaxespad=0.)\n",
    "plt.grid()\n",
    "\n",
    "plt.subplot(1, 2, 2)\n",
    "plt.plot(x, -20*x**2 + (pi*x) + 5, x, x*np.exp(-x), '--')\n",
    "plt.xlabel(r'$X-axis$')\n",
    "plt.ylabel(r'$Y-axis$')\n",
    "plt.legend([r'$-20x^2 + {\\pi}x + 5$', r'$x*exp(-x)$'], bbox_to_anchor=(0., 1.02, 1., .102), loc=3,\n",
    "           ncol=2, mode=\"expand\", borderaxespad=0.)\n",
    "plt.grid()\n",
    "plt.tight_layout()\n",
    "plt.show()\n",
    "\n",
    "fig.savefig('fig.png')"
   ]
  },
  {
   "cell_type": "code",
   "execution_count": 1,
   "metadata": {
    "collapsed": true
   },
   "outputs": [],
   "source": [
    "# SciPy"
   ]
  },
  {
   "cell_type": "code",
   "execution_count": 4,
   "metadata": {
    "collapsed": false
   },
   "outputs": [],
   "source": [
    "import scipy\n",
    "matrix = scipy.random.standard_normal((5,5))\n",
    "# print(matrix)"
   ]
  },
  {
   "cell_type": "code",
   "execution_count": 23,
   "metadata": {
    "collapsed": false
   },
   "outputs": [
    {
     "name": "stdout",
     "output_type": "stream",
     "text": [
      "eigvals:\n",
      "[ 0.92009494+0.j         -2.61689245+0.j         -1.84972931+0.j\n",
      " -0.56906424+0.41646387j -0.56906424-0.41646387j]\n",
      "\n",
      "-------\n",
      "\n",
      "eigvectors:\n",
      "[[ -8.25958391e-04+0.j          -8.31824447e-01+0.j           2.91065680e-01+0.j\n",
      "    4.38658571e-01-0.08558702j   4.38658571e-01+0.08558702j]\n",
      " [ -5.63190898e-01+0.j           3.04071873e-01+0.j          -8.11789694e-01+0.j\n",
      "    2.18231604e-01+0.11327335j   2.18231604e-01-0.11327335j]\n",
      " [ -2.33952949e-01+0.j           1.22542052e-01+0.j          -1.64054647e-01+0.j\n",
      "   -2.34064801e-01-0.23690389j  -2.34064801e-01+0.23690389j]\n",
      " [ -7.60838934e-01+0.j          -4.39208953e-01+0.j           4.69981230e-01+0.j\n",
      "    6.65890200e-01+0.j           6.65890200e-01-0.j        ]\n",
      " [ -2.21823047e-01+0.j          -8.76774061e-02+0.j           9.20976605e-02+0.j\n",
      "    4.22372657e-01-0.08413937j   4.22372657e-01+0.08413937j]]\n",
      "\n",
      "-------\n",
      "\n",
      "[ 0.80085407+0.25936543j  1.52249219-0.42229766j -0.19105998-0.07132959j\n",
      " -1.23778693-0.04443051j -1.02725965-0.22200024j]\n"
     ]
    }
   ],
   "source": [
    "from scipy import linalg\n",
    "eigvals, eigvectors = linalg.eig(matrix)\n",
    "print('eigvals:\\n{}'.format(eigvals))\n",
    "print('\\n-------\\n')\n",
    "print('eigvectors:\\n{}'.format(eigvectors))\n",
    "print('\\n-------\\n')\n",
    "\n",
    "# Verification\n",
    "print(scipy.dot(matrix, eigvectors[0]) - eigvectors[0] * eigvals[0])"
   ]
  },
  {
   "cell_type": "code",
   "execution_count": null,
   "metadata": {
    "collapsed": true
   },
   "outputs": [],
   "source": []
  }
 ],
 "metadata": {
  "kernelspec": {
   "display_name": "Python 3",
   "language": "python",
   "name": "python3"
  },
  "language_info": {
   "codemirror_mode": {
    "name": "ipython",
    "version": 3
   },
   "file_extension": ".py",
   "mimetype": "text/x-python",
   "name": "python",
   "nbconvert_exporter": "python",
   "pygments_lexer": "ipython3",
   "version": "3.5.2+"
  }
 },
 "nbformat": 4,
 "nbformat_minor": 1
}
